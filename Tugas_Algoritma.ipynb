{
 "cells": [
  {
   "cell_type": "code",
   "execution_count": 32,
   "id": "6eca2cf9",
   "metadata": {},
   "outputs": [],
   "source": [
    "import math\n",
    "\n",
    "def js(data, target):\n",
    "    n = len(data)\n",
    "    jump = int(math.sqrt(n))\n",
    "    print(jump)\n",
    "\n",
    "    left = 0\n",
    "    right = 0\n",
    "\n",
    "    while right < n and data[right] < target:\n",
    "        left = right\n",
    "        right += jump\n",
    "\n",
    "    for i in range(left, min(right, n)):\n",
    "        if data[i] == target:\n",
    "            return i\n",
    "    return -1\n",
    "\n",
    "\n",
    "def jsp(data, target):\n",
    "    n = len(data)\n",
    "    jump = int(math.sqrt(n))\n",
    "    print(f\"Ukuran lompatan indeks: {jump}\")\n",
    "    print(f\"Nilai target: {target}\")\n",
    "    print()\n",
    "\n",
    "    left = 0\n",
    "    right = 0\n",
    "\n",
    "    while right < n and data[right] < target:\n",
    "        print(f\"Lompat dari indeks {left} ke {right}, nilai: {data[right]}\")\n",
    "        left = right\n",
    "        right += jump\n",
    "        if right >= n:\n",
    "            right = n\n",
    "\n",
    "    print(f\"Blok ditemukan antara indeks {left} dan {right - 1}\")\n",
    "    print(\"Linear Search pada blok tersebut\\n\")\n",
    "\n",
    "    for i in range(left, min(right, n)):\n",
    "        print(f\"Periksa indeks {i}, nilai: {data[i]}\")\n",
    "        if data[i] == target:\n",
    "            print(f\"✅ Target {target} ditemukan di indeks {i}\")\n",
    "            return i\n",
    "\n",
    "    print(f\"❌ Target {target} tidak ditemukan.\")\n",
    "    return -1\n"
   ]
  },
  {
   "cell_type": "code",
   "execution_count": 35,
   "id": "d1d92255",
   "metadata": {},
   "outputs": [
    {
     "name": "stdout",
     "output_type": "stream",
     "text": [
      "Ukuran lompatan indeks: 3\n",
      "Nilai target: 24\n",
      "\n",
      "Lompat dari indeks 0 ke 0, nilai: 1\n",
      "Lompat dari indeks 0 ke 3, nilai: 7\n",
      "Lompat dari indeks 3 ke 6, nilai: 14\n",
      "Lompat dari indeks 6 ke 9, nilai: 20\n",
      "Blok ditemukan antara indeks 9 dan 11\n",
      "Linear Search pada blok tersebut\n",
      "\n",
      "Periksa indeks 9, nilai: 20\n",
      "Periksa indeks 10, nilai: 24\n",
      "✅ Target 24 ditemukan di indeks 10\n"
     ]
    },
    {
     "data": {
      "text/plain": [
       "10"
      ]
     },
     "execution_count": 35,
     "metadata": {},
     "output_type": "execute_result"
    }
   ],
   "source": [
    "d = [1, 2, 5, 7, 10, 12, 14, 15, 17, 20, 24, 36, 37]\n",
    "t = 24\n",
    "\n",
    "jsp(d, t)"
   ]
  }
 ],
 "metadata": {
  "kernelspec": {
   "display_name": "Python 3",
   "language": "python",
   "name": "python3"
  },
  "language_info": {
   "codemirror_mode": {
    "name": "ipython",
    "version": 3
   },
   "file_extension": ".py",
   "mimetype": "text/x-python",
   "name": "python",
   "nbconvert_exporter": "python",
   "pygments_lexer": "ipython3",
   "version": "3.12.6"
  }
 },
 "nbformat": 4,
 "nbformat_minor": 5
}
