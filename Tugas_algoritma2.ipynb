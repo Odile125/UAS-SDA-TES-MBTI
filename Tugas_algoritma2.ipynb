{
 "cells": [
  {
   "cell_type": "code",
   "execution_count": 1,
   "id": "d9d9f72e",
   "metadata": {},
   "outputs": [],
   "source": [
    "def interpolation_search(data, target):\n",
    "    low = 0\n",
    "    high = len(data) - 1\n",
    "\n",
    "    while low <= high and target >= data[low] and target <= data[high]:\n",
    "\n",
    "        #Perkiraan posisi\n",
    "        pos = low + ((target - data[low]) * (high - low)) // (data[high] - data[low])\n",
    "\n",
    "        if data[pos] == target:\n",
    "            return pos\n",
    "        elif data[pos] < target:\n",
    "            low = pos + 1\n",
    "        else:\n",
    "            high = pos - 1\n",
    "    return -1  #Tidak ditemukan"
   ]
  },
  {
   "cell_type": "code",
   "execution_count": 2,
   "id": "8e548bf9",
   "metadata": {},
   "outputs": [],
   "source": [
    "def interpolation_search_print(data, target):\n",
    "    low = 0\n",
    "    high = len(data) - 1\n",
    "    step = 1\n",
    "\n",
    "    while low <= high and target >= data[low] and target <= data[high]:\n",
    "        #Hindari pembagian nol\n",
    "        if data[high] == data[low]:\n",
    "            break\n",
    "\n",
    "        #Perkiraan posisi\n",
    "        pos = low + ((target - data[low]) * (high - low)) // (data[high] - data[low])\n",
    "\n",
    "        print(f\"[Langkah {step}] Estimasi posisi: {pos}\")\n",
    "        print(f\"  → data[{pos}] = {data[pos]}\")\n",
    "\n",
    "        if data[pos] == target:\n",
    "            print(f\"✅ Target {target} ditemukan di indeks {pos}\")\n",
    "            return pos\n",
    "        elif data[pos] < target:\n",
    "            print(f\"  Target > data[{pos}], geser low ke {pos + 1}\")\n",
    "            low = pos + 1\n",
    "        else:\n",
    "            print(f\"  Target < data[{pos}], geser high ke {pos - 1}\")\n",
    "            high = pos - 1\n",
    "\n",
    "        step += 1\n",
    "\n",
    "    print(f\"❌ Target {target} tidak ditemukan.\")\n",
    "    return -1\n"
   ]
  },
  {
   "cell_type": "code",
   "execution_count": 3,
   "id": "f25e6b1b",
   "metadata": {},
   "outputs": [
    {
     "name": "stdout",
     "output_type": "stream",
     "text": [
      "[Langkah 1] Estimasi posisi: 9\n",
      "  → data[9] = 101\n",
      "✅ Target 101 ditemukan di indeks 9\n"
     ]
    },
    {
     "data": {
      "text/plain": [
       "9"
      ]
     },
     "execution_count": 3,
     "metadata": {},
     "output_type": "execute_result"
    }
   ],
   "source": [
    "d = [5, 15, 30, 45, 53, 61, 69, 78, 94, 101]\n",
    "t = 101\n",
    "\n",
    "interpolation_search_print(d, t)"
   ]
  }
 ],
 "metadata": {
  "kernelspec": {
   "display_name": "Python 3",
   "language": "python",
   "name": "python3"
  },
  "language_info": {
   "codemirror_mode": {
    "name": "ipython",
    "version": 3
   },
   "file_extension": ".py",
   "mimetype": "text/x-python",
   "name": "python",
   "nbconvert_exporter": "python",
   "pygments_lexer": "ipython3",
   "version": "3.12.6"
  }
 },
 "nbformat": 4,
 "nbformat_minor": 5
}
