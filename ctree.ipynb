{
 "cells": [
  {
   "cell_type": "code",
   "execution_count": 1,
   "id": "2b307c11",
   "metadata": {},
   "outputs": [],
   "source": [
    "import numpy as np\n",
    "\n",
    "# Pertanyaan MBTI (20 pertanyaan)\n",
    "pertanyaan_mbti = [\n",
    "    \"Saya merasa nyaman bekerja sendiri daripada dalam kelompok.\",\n",
    "    \"Saya lebih suka merencanakan sesuatu jauh-jauh hari.\",\n",
    "    \"Saya membuat keputusan berdasarkan logika, bukan perasaan.\",\n",
    "    \"Saya senang bersosialisasi dan bertemu banyak orang.\",\n",
    "    \"Saya sering memikirkan makna tersembunyi dari sesuatu.\",\n",
    "    \"Saya merasa energik setelah menghabiskan waktu dengan banyak orang.\",\n",
    "    \"Saya cenderung berpikir kritis terhadap sesuatu.\",\n",
    "    \"Saya lebih suka hidup yang terstruktur dan rapi.\",\n",
    "    \"Saya suka mencoba hal-hal baru tanpa terlalu banyak berpikir.\",\n",
    "    \"Saya merasa mudah memahami perasaan orang lain.\",\n",
    "    \"Saya lebih suka hal konkret daripada teori abstrak.\",\n",
    "    \"Saya lebih sering menyimpan pendapat sendiri.\",\n",
    "    \"Saya mengikuti intuisi dalam mengambil keputusan.\",\n",
    "    \"Saya merasa terganggu jika rencana berubah tiba-tiba.\",\n",
    "    \"Saya terbuka dengan spontanitas dan kejutan.\",\n",
    "    \"Saya lebih nyaman dalam situasi yang familiar.\",\n",
    "    \"Saya menyukai percakapan yang mendalam daripada basa-basi.\",\n",
    "    \"Saya merasa lebih hidup saat berada dalam keramaian.\",\n",
    "    \"Saya berpegang pada prinsip dan nilai pribadi.\",\n",
    "    \"Saya sering mengamati detail kecil yang terlewat orang lain.\"\n",
    "]\n",
    "\n",
    "# Definisi Node pohon keputusan\n",
    "class Node:\n",
    "    def __init__(self, question_idx=None, threshold=3, left=None, right=None, result=None):\n",
    "        self.question_idx = question_idx\n",
    "        self.threshold = threshold\n",
    "        self.left = left\n",
    "        self.right = right\n",
    "        self.result = result\n",
    "\n",
    "    def predict(self, jawaban):\n",
    "        if self.result is not None:\n",
    "            return self.result\n",
    "        else:\n",
    "            if jawaban[self.question_idx] <= self.threshold:\n",
    "                return self.left.predict(jawaban)\n",
    "            else:\n",
    "                return self.right.predict(jawaban)\n"
   ]
  },
  {
   "cell_type": "code",
   "execution_count": 2,
   "id": "5fdc8248",
   "metadata": {},
   "outputs": [],
   "source": [
    "# Leaf nodes (contoh sederhana)\n",
    "leaf_ET = Node(result=\"ET\")\n",
    "leaf_EF = Node(result=\"EF\")\n",
    "leaf_IJ = Node(result=\"IJ\")\n",
    "leaf_IP = Node(result=\"IP\")\n",
    "\n",
    "# Cabang tingkat 2\n",
    "node_E = Node(question_idx=2, threshold=3, left=leaf_EF, right=leaf_ET)\n",
    "node_I = Node(question_idx=1, threshold=3, left=leaf_IP, right=leaf_IJ)\n",
    "\n",
    "# Root node\n",
    "root = Node(question_idx=3, threshold=3, left=node_I, right=node_E)\n"
   ]
  },
  {
   "cell_type": "code",
   "execution_count": 3,
   "id": "b29c7d95",
   "metadata": {},
   "outputs": [],
   "source": [
    "def print_tree(node, level=0):\n",
    "    indent = \"  \" * level\n",
    "    if node.result is not None:\n",
    "        print(f\"{indent}Leaf: {node.result}\")\n",
    "    else:\n",
    "        print(f\"{indent}Q{node.question_idx+1} <= {node.threshold}?\")\n",
    "        print(f\"{indent}--> True:\")\n",
    "        print_tree(node.left, level + 1)\n",
    "        print(f\"{indent}--> False:\")\n",
    "        print_tree(node.right, level + 1)\n",
    "\n",
    "def prediksi_mbti_tree(jawaban):\n",
    "    return root.predict(jawaban)\n"
   ]
  },
  {
   "cell_type": "code",
   "execution_count": 4,
   "id": "44ddc8b5",
   "metadata": {},
   "outputs": [
    {
     "name": "stdout",
     "output_type": "stream",
     "text": [
      "Jawab pertanyaan dengan angka 1-5, 1=tidak setuju, 5=sangat setuju\n",
      "\n",
      "\n",
      "Prediksi tipe MBTI berdasarkan pohon keputusan manual: IP\n",
      "\n",
      "Struktur pohon keputusan manual:\n",
      "Q4 <= 3?\n",
      "--> True:\n",
      "  Q2 <= 3?\n",
      "  --> True:\n",
      "    Leaf: IP\n",
      "  --> False:\n",
      "    Leaf: IJ\n",
      "--> False:\n",
      "  Q3 <= 3?\n",
      "  --> True:\n",
      "    Leaf: EF\n",
      "  --> False:\n",
      "    Leaf: ET\n"
     ]
    }
   ],
   "source": [
    "jawaban_user = []\n",
    "print(\"Jawab pertanyaan dengan angka 1-5, 1=tidak setuju, 5=sangat setuju\\n\")\n",
    "\n",
    "for i, pertanyaan in enumerate(pertanyaan_mbti):\n",
    "    while True:\n",
    "        try:\n",
    "            nilai = int(input(f\"{i+1}. {pertanyaan}\\nJawaban kamu (1-5): \"))\n",
    "            if 1 <= nilai <= 5:\n",
    "                jawaban_user.append(nilai)\n",
    "                break\n",
    "            else:\n",
    "                print(\"⚠️ Masukkan angka antara 1 sampai 5.\")\n",
    "        except ValueError:\n",
    "            print(\"⚠️ Masukkan angka yang valid.\")\n",
    "\n",
    "hasil = prediksi_mbti_tree(jawaban_user)\n",
    "print(\"\\nPrediksi tipe MBTI berdasarkan pohon keputusan manual:\", hasil)\n",
    "\n",
    "print(\"\\nStruktur pohon keputusan manual:\")\n",
    "print_tree(root)\n"
   ]
  }
 ],
 "metadata": {
  "kernelspec": {
   "display_name": "Python 3",
   "language": "python",
   "name": "python3"
  },
  "language_info": {
   "codemirror_mode": {
    "name": "ipython",
    "version": 3
   },
   "file_extension": ".py",
   "mimetype": "text/x-python",
   "name": "python",
   "nbconvert_exporter": "python",
   "pygments_lexer": "ipython3",
   "version": "3.12.6"
  }
 },
 "nbformat": 4,
 "nbformat_minor": 5
}
