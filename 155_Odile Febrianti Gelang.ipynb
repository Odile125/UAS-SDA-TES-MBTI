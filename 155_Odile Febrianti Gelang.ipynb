{
 "cells": [
  {
   "cell_type": "code",
   "execution_count": null,
   "id": "febc7b7a",
   "metadata": {},
   "outputs": [],
   "source": [
    "class CircularQueue:\n",
    "    def __init__(self, capacity):\n",
    "        self.capacity = capacity\n",
    "        self.queue = [None] * capacity\n",
    "        self.tail = -1\n",
    "        self.head = 0\n",
    "        self.size = 0\n",
    "\n",
    "    def enqueue(self, item):\n",
    "        if self.size == self.capacity:\n",
    "            print(\"Error: Queue is Full\")\n",
    "        else:\n",
    "            self.tail = (self.tail + 1) % self.capacity\n",
    "            self.queue[self.tail] = item\n",
    "            self.size += 1\n",
    "\n",
    "    def dequeue(self):\n",
    "        if self.size == 0:\n",
    "            print(\"Error: Queue is Empty\")\n",
    "            return None\n",
    "        else:\n",
    "            item = self.queue[self.head]\n",
    "            self.head = (self.head + 1) % self.capacity\n",
    "            self.size -= 1\n",
    "            return item\n",
    "\n",
    "    def display(self):\n",
    "        if self.size == 0:\n",
    "            print(\"Queue is Empty\\n\")\n",
    "        else:\n",
    "            index = self.head\n",
    "            for i in range(self.size):\n",
    "                print(self.queue[index])\n",
    "                index = (index + 1) % self.capacity"
   ]
  },
  {
   "cell_type": "code",
   "execution_count": null,
   "id": "2eaca17e",
   "metadata": {},
   "outputs": [],
   "source": [
    "# Pengujian CircularQueue dengan kapasitas 4\n",
    "cq = CircularQueue(4)\n",
    "cq.enqueue(4)\n",
    "cq.enqueue(3)\n",
    "cq.enqueue(2)\n",
    "cq.enqueue(1)\n",
    "\n",
    "print(\"Isi antrian:\")\n",
    "cq.display()\n",
    "# Hapus elemen pertama\n",
    "print(\"Dequeue 1 elemen:\", cq.dequeue())\n",
    "# Hapus elemen 2\n",
    "print(\"Dequeue 1 elemen:\", cq.dequeue())\n",
    "# Tambahkan elemen pertama\n",
    "print(\"Tambahkan elemen D:\")\n",
    "cq.enqueue(\"D\")\n",
    "# Tambahkan elemen kedua\n",
    "print(\"Tambahkan elemen E:\")\n",
    "cq.enqueue(\"E\")\n",
    "\n",
    "print(\"Isi antrian sekarang:\")\n",
    "cq.display()\n",
    "\n"
   ]
  },
  {
   "cell_type": "code",
   "execution_count": 1,
   "id": "cda2b332",
   "metadata": {},
   "outputs": [],
   "source": [
    "# Tugas 2 Pryoritas Ulang Tahun\n",
    "class PriorityQueue:\n",
    "    def __init__(self):\n",
    "        self.queue = []\n",
    "\n",
    "    def __str__(self):\n",
    "        return ' '.join([str(i) for i in self.queue])\n",
    "\n",
    "    def isEmpty(self):\n",
    "        return len(self.queue) == 0\n",
    "\n",
    "    def insert(self, data):\n",
    "        self.queue.append(data)\n",
    "\n",
    "    def delete(self):\n",
    "        try:\n",
    "            max_val = 0\n",
    "            for i in range(len(self.queue)):\n",
    "                if self.queue[i] > self.queue[max_val]:\n",
    "                    max_val = i\n",
    "            item = self.queue[max_val]\n",
    "            del self.queue[max_val]\n",
    "            return item\n",
    "        except IndexError:\n",
    "            print(\"Queue kosong!\")\n",
    "            return None\n"
   ]
  },
  {
   "cell_type": "code",
   "execution_count": null,
   "id": "fc2f77f9",
   "metadata": {},
   "outputs": [
    {
     "name": "stdout",
     "output_type": "stream",
     "text": [
      "Elemen prioritas tertinggi (dihapus): 55\n",
      "Elemen prioritas tertinggi (dihapus): 7\n",
      "Setelah delete: 1 1\n"
     ]
    }
   ],
   "source": [
    "pq = PriorityQueue()\n",
    "pq.insert(55) # Ganti dengan 2 digit NIM\n",
    "pq.insert(1)\n",
    "pq.insert(1) # Ganti dengan tanggal ulang tahun\n",
    "pq.insert(7)\n",
    "\n",
    "print(\"Elemen prioritas tertinggi (dihapus):\", pq.delete())\n",
    "print(\"Elemen prioritas tertinggi (dihapus):\", pq.delete())\n",
    "print(\"Setelah delete:\", pq)\n",
    "\n",
    "# elemen dengan nilai angka terkecil dianggap memiliki prioritas tertinggi, \n",
    "# sehingga akan dihapus terlebih dahulu saat delete() dipanggil.\n",
    "# priorita tertinggi di code diatas adalah nilai terbesar dalam queue"
   ]
  }
 ],
 "metadata": {
  "kernelspec": {
   "display_name": "Python 3",
   "language": "python",
   "name": "python3"
  },
  "language_info": {
   "codemirror_mode": {
    "name": "ipython",
    "version": 3
   },
   "file_extension": ".py",
   "mimetype": "text/x-python",
   "name": "python",
   "nbconvert_exporter": "python",
   "pygments_lexer": "ipython3",
   "version": "3.12.6"
  }
 },
 "nbformat": 4,
 "nbformat_minor": 5
}
