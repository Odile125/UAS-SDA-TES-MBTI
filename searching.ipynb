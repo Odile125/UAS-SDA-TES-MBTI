{
 "cells": [
  {
   "cell_type": "code",
   "execution_count": null,
   "id": "1503cf8d",
   "metadata": {},
   "outputs": [],
   "source": [
    "#LINEAR\n",
    "\n",
    "def linear_search (data,target):\n",
    "    for i in range  (len(data)):\n",
    "        if data[i] == target:\n",
    "            return i\n",
    "    return -1\n",
    "\n",
    "def linear_search_print (data,target):\n",
    "    for i in range  (len(data)):\n",
    "        if data[i] == target:\n",
    "            print(f\"Target {target} found at index {i}\")\n",
    "            return i\n",
    "    print(f\"Target {target} not found in list\")\n",
    "    return -1\n",
    "\n"
   ]
  },
  {
   "cell_type": "code",
   "execution_count": 4,
   "id": "e0641457",
   "metadata": {},
   "outputs": [
    {
     "name": "stdout",
     "output_type": "stream",
     "text": [
      "Target Faiz found at index 5\n"
     ]
    }
   ],
   "source": [
    "nama_mahasiswa = [\"Alamsyah\", \"Nova\", \"Tiara\", \"Gesang\", \"Hilmy\", \"Faiz\", \"Fadhil\" ]\n",
    "pelaku = \"Faiz\"\n",
    "hasil = linear_search_print(nama_mahasiswa,pelaku)"
   ]
  },
  {
   "cell_type": "code",
   "execution_count": 9,
   "id": "42559e24",
   "metadata": {},
   "outputs": [],
   "source": [
    "#BINARY\n",
    "def binary_serach (arr, left, right, target):\n",
    "    while left <= right:\n",
    "        mid = left + (right - left) // 2\n",
    "        if arr[mid] == target:\n",
    "            return mid\n",
    "        elif arr[mid] < target:\n",
    "            left = mid + 1\n",
    "        else:\n",
    "            right = mid - 1\n",
    "    return -1\n",
    "def binary_search_print (arr, left, right, target):\n",
    "    step = 1\n",
    "    while left <= right:\n",
    "        mid = left + (right - left) // 2\n",
    "        print (f\"Langkah {step}: left = {left}, right = {right}, mid = {mid}, arr[mid] = {arr[mid]}\")\n",
    "\n",
    "        if arr[mid] == target:\n",
    "            print (f\"Target {target} ditemukan pada index {mid}\")\n",
    "            return mid\n",
    "        elif arr[mid] < target:\n",
    "            left = mid + 1\n",
    "        else:\n",
    "            right = mid - 1\n",
    "        step += 1\n",
    "    print (f\"Target {target} tidak ditemukan\")\n",
    "    return -1"
   ]
  },
  {
   "cell_type": "code",
   "execution_count": 10,
   "id": "91a9e15e",
   "metadata": {},
   "outputs": [
    {
     "name": "stdout",
     "output_type": "stream",
     "text": [
      "Langkah 1: left = 0, right = 9, mid = 4, arr[mid] = 5\n",
      "Target 5 ditemukan pada index 4\n",
      "Langkah 1: left = 0, right = 9, mid = 4, arr[mid] = 5\n",
      "Langkah 2: left = 5, right = 9, mid = 7, arr[mid] = 8\n",
      "Langkah 3: left = 8, right = 9, mid = 8, arr[mid] = 9\n",
      "Langkah 4: left = 9, right = 9, mid = 9, arr[mid] = 10\n",
      "Target 15 tidak ditemukan\n"
     ]
    }
   ],
   "source": [
    "arr = [1, 2, 3, 4, 5, 6, 7, 8, 9, 10]\n",
    "target1 = 5\n",
    "target2 = 15\n",
    "\n",
    "index1 = binary_search_print(arr, 0, len(arr) - 1, target1)\n",
    "index2 = binary_search_print(arr, 0, len(arr) - 1, target2)"
   ]
  },
  {
   "cell_type": "code",
   "execution_count": null,
   "id": "4d062de9",
   "metadata": {},
   "outputs": [],
   "source": [
    "#JUMP\n",
    "\n",
    "def jump_searh (data, target):\n",
    "    n = len(data)\n",
    "    jump = int(Math, )\n"
   ]
  }
 ],
 "metadata": {
  "kernelspec": {
   "display_name": "Python 3",
   "language": "python",
   "name": "python3"
  },
  "language_info": {
   "codemirror_mode": {
    "name": "ipython",
    "version": 3
   },
   "file_extension": ".py",
   "mimetype": "text/x-python",
   "name": "python",
   "nbconvert_exporter": "python",
   "pygments_lexer": "ipython3",
   "version": "3.12.6"
  }
 },
 "nbformat": 4,
 "nbformat_minor": 5
}
