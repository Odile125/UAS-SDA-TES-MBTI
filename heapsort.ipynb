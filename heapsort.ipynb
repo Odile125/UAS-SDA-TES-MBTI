{
 "cells": [
  {
   "cell_type": "code",
   "execution_count": 9,
   "id": "6c672061",
   "metadata": {},
   "outputs": [
    {
     "name": "stdout",
     "output_type": "stream",
     "text": [
      "array awal untuk heapsort: [9, 4, 3, 8, 10, 2, 5]\n"
     ]
    }
   ],
   "source": [
    "arr = [9, 4, 3, 8, 10, 2, 5]\n",
    "print(f'array awal untuk heapsort: {arr}')\n"
   ]
  },
  {
   "cell_type": "code",
   "execution_count": 12,
   "id": "ae789ecf",
   "metadata": {},
   "outputs": [
    {
     "name": "stdout",
     "output_type": "stream",
     "text": [
      "Sebelum heapify: [9, 4, 3, 8, 10, 2, 5]\n",
      "Setelah heapify pada root: [9, 4, 3, 8, 10, 2, 5]\n"
     ]
    }
   ],
   "source": [
    "def heapify(arr, n, i):\n",
    "    largest = i\n",
    "    left = 2 * i + 1\n",
    "    right = 2 * i + 2\n",
    "\n",
    "    if left < n and arr[i] < arr[left]:\n",
    "        largest = left\n",
    "\n",
    "    if right < n and arr[largest] < arr[right]:\n",
    "        largest = right\n",
    "\n",
    "    if largest != i:\n",
    "        arr[i], arr[largest] = arr[largest], arr[i]\n",
    "\n",
    "n = len(arr)\n",
    "print(f\"Sebelum heapify: {arr}\")\n",
    "heapify(arr, n, 0)\n",
    "print(f\"Setelah heapify pada root: {arr}\")"
   ]
  },
  {
   "cell_type": "code",
   "execution_count": 15,
   "id": "6ac523f9",
   "metadata": {},
   "outputs": [
    {
     "name": "stdout",
     "output_type": "stream",
     "text": [
      "Sebelum max-heap: [2, 3, 8, 4, 5, 9, 10]\n",
      "Setelah membangun max-heap: [10, 5, 2, 4, 3, 9, 8]\n"
     ]
    }
   ],
   "source": [
    "def build_max_heap(arr):\n",
    "    n = len(arr)\n",
    "    for i in range(n // 2 - 1, -1, -1):\n",
    "        heapify(arr, n, i)\n",
    "    print(f\"Setelah membangun max-heap: {arr}\")\n",
    "\n",
    "print(f\"Sebelum max-heap: {arr}\")\n",
    "build_max_heap(arr)"
   ]
  },
  {
   "cell_type": "code",
   "execution_count": 16,
   "id": "6f509334",
   "metadata": {},
   "outputs": [
    {
     "name": "stdout",
     "output_type": "stream",
     "text": [
      "Setelah membangun max-heap: [10, 5, 9, 4, 3, 2, 8]\n",
      "Setelah iterasi ke-1: [9, 5, 8, 4, 3, 2, 10]\n",
      "Setelah iterasi ke-2: [8, 5, 2, 4, 3, 9, 10]\n",
      "Setelah iterasi ke-3: [5, 3, 2, 4, 8, 9, 10]\n",
      "Setelah iterasi ke-4: [4, 3, 2, 5, 8, 9, 10]\n",
      "Setelah iterasi ke-5: [3, 2, 4, 5, 8, 9, 10]\n",
      "Setelah iterasi ke-6: [2, 3, 4, 5, 8, 9, 10]\n",
      "Array setelah Heap sort: [2, 3, 4, 5, 8, 9, 10]\n"
     ]
    }
   ],
   "source": [
    "def heap_sort(arr):\n",
    "    build_max_heap(arr)\n",
    "    n = len(arr)\n",
    "\n",
    "    for i in range(n - 1, 0, -1):\n",
    "        arr[0], arr[i] = arr[i], arr[0]\n",
    "        heapify(arr, i, 0)\n",
    "        print(f\"Setelah iterasi ke-{n-i}: {arr}\")\n",
    "\n",
    "heap_sort(arr)\n",
    "print(f\"Array setelah Heap sort: {arr}\")"
   ]
  }
 ],
 "metadata": {
  "kernelspec": {
   "display_name": "Python 3",
   "language": "python",
   "name": "python3"
  },
  "language_info": {
   "codemirror_mode": {
    "name": "ipython",
    "version": 3
   },
   "file_extension": ".py",
   "mimetype": "text/x-python",
   "name": "python",
   "nbconvert_exporter": "python",
   "pygments_lexer": "ipython3",
   "version": "3.12.6"
  }
 },
 "nbformat": 4,
 "nbformat_minor": 5
}
