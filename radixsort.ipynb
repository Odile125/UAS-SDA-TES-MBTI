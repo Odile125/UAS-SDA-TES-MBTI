{
 "cells": [
  {
   "cell_type": "code",
   "execution_count": 6,
   "id": "c047edcb",
   "metadata": {},
   "outputs": [
    {
     "name": "stdout",
     "output_type": "stream",
     "text": [
      "array awal: [11, 2, 72, 36, 64, 204, 1326, 512]\n"
     ]
    }
   ],
   "source": [
    "# arr = [170, 45, 75, 90, 802, 24, 2, 66]\n",
    "# print(f\"array awal: {arr}\")\n",
    "arr = [11, 2, 72, 36, 64, 204, 1326, 512]\n",
    "print(f\"array awal: {arr}\")"
   ]
  },
  {
   "cell_type": "code",
   "execution_count": 7,
   "id": "b2e6e691",
   "metadata": {},
   "outputs": [
    {
     "name": "stdout",
     "output_type": "stream",
     "text": [
      "nilai maksimum: 1326\n"
     ]
    }
   ],
   "source": [
    "def get_max(arr):\n",
    "    max_value = arr[0]\n",
    "    for i in range(1, len(arr)):\n",
    "        if arr[i] > max_value:\n",
    "            max_value = arr[i]\n",
    "    return max_value\n",
    "\n",
    "max_val = get_max(arr)\n",
    "print(f\"nilai maksimum: {max_val}\")"
   ]
  },
  {
   "cell_type": "code",
   "execution_count": 10,
   "id": "6a65f781",
   "metadata": {},
   "outputs": [
    {
     "name": "stdout",
     "output_type": "stream",
     "text": [
      "sebelum sorting digit satuan: [11, 2, 72, 512, 64, 204, 36, 1326]\n",
      "setelah sorting digit satuan: [11, 2, 72, 512, 64, 204, 36, 1326]\n"
     ]
    }
   ],
   "source": [
    "def counting_sort_for_digit(arr, exp):\n",
    "    n = len(arr)\n",
    "    output = [0] * n\n",
    "    count = [0] * 10\n",
    "\n",
    "    for i in range(n):\n",
    "        digit = (arr[i] // exp) % 10\n",
    "        count[digit] += 1\n",
    "\n",
    "    for i in range(1, 10):\n",
    "        count[i] += count[i - 1]\n",
    "\n",
    "    for i in range(n - 1, -1, -1):\n",
    "        digit = (arr[i] // exp) % 10\n",
    "        output[count[digit] - 1] = arr[i]\n",
    "        count[digit] -= 1\n",
    "\n",
    "    for i in range(n):\n",
    "        arr[i] = output[i]\n",
    "\n",
    "print(f\"sebelum sorting digit satuan: {arr}\")\n",
    "counting_sort_for_digit(arr, 1)\n",
    "print(f\"setelah sorting digit satuan: {arr}\")"
   ]
  },
  {
   "cell_type": "code",
   "execution_count": 11,
   "id": "11068b5b",
   "metadata": {},
   "outputs": [
    {
     "name": "stdout",
     "output_type": "stream",
     "text": [
      "setelah sorting digit 1: [11, 2, 72, 512, 64, 204, 36, 1326]\n",
      "setelah sorting digit 10: [2, 204, 11, 512, 1326, 36, 64, 72]\n",
      "setelah sorting digit 100: [2, 11, 36, 64, 72, 204, 1326, 512]\n",
      "setelah sorting digit 1000: [2, 11, 36, 64, 72, 204, 512, 1326]\n",
      "Array setelah Radix Slort: [2, 11, 36, 64, 72, 204, 512, 1326]\n"
     ]
    }
   ],
   "source": [
    "def radix_sort(arr):\n",
    "    max_val = get_max(arr)\n",
    "    exp = 1\n",
    "    while max_val // exp > 0:\n",
    "        counting_sort_for_digit(arr, exp)\n",
    "        print(f\"setelah sorting digit {exp}: {arr}\")\n",
    "        exp *= 10\n",
    "\n",
    "radix_sort(arr)\n",
    "print(f\"Array setelah Radix Slort: {arr}\")\n"
   ]
  }
 ],
 "metadata": {
  "kernelspec": {
   "display_name": "Python 3",
   "language": "python",
   "name": "python3"
  },
  "language_info": {
   "codemirror_mode": {
    "name": "ipython",
    "version": 3
   },
   "file_extension": ".py",
   "mimetype": "text/x-python",
   "name": "python",
   "nbconvert_exporter": "python",
   "pygments_lexer": "ipython3",
   "version": "3.12.6"
  }
 },
 "nbformat": 4,
 "nbformat_minor": 5
}
