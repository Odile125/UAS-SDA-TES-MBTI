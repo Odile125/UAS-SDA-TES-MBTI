{
 "cells": [
  {
   "cell_type": "code",
   "execution_count": null,
   "id": "e23a40b2",
   "metadata": {},
   "outputs": [
    {
     "name": "stdout",
     "output_type": "stream",
     "text": [
      "1\n",
      "2\n",
      "3\n"
     ]
    }
   ],
   "source": [
    "def countdown(n): \n",
    "    if n == 0:             \n",
    "# Base case \n",
    "        return              \n",
    "    else: \n",
    "        countdown(n - 1)   # Recursive \n",
    "    print(n)\n",
    "\n",
    "countdown(2)"
   ]
  },
  {
   "cell_type": "code",
   "execution_count": 9,
   "id": "6edc54fc",
   "metadata": {},
   "outputs": [
    {
     "data": {
      "text/plain": [
       "24"
      ]
     },
     "execution_count": 9,
     "metadata": {},
     "output_type": "execute_result"
    }
   ],
   "source": [
    "def factorial_recursive(n): \n",
    "# Base case: 1! = 1 or n == 0 \n",
    "    if (n == 1) or (n == 0): \n",
    "        return 1 \n",
    "# Recursive case: n! = n * (n-1)! \n",
    "    else: \n",
    "        return n * factorial_recursive(n-1) \n",
    "factorial_recursive(4)"
   ]
  },
  {
   "cell_type": "code",
   "execution_count": null,
   "id": "5a007749",
   "metadata": {},
   "outputs": [
    {
     "data": {
      "text/plain": [
       "24"
      ]
     },
     "execution_count": 10,
     "metadata": {},
     "output_type": "execute_result"
    }
   ],
   "source": []
  }
 ],
 "metadata": {
  "kernelspec": {
   "display_name": "Python 3",
   "language": "python",
   "name": "python3"
  },
  "language_info": {
   "codemirror_mode": {
    "name": "ipython",
    "version": 3
   },
   "file_extension": ".py",
   "mimetype": "text/x-python",
   "name": "python",
   "nbconvert_exporter": "python",
   "pygments_lexer": "ipython3",
   "version": "3.12.6"
  }
 },
 "nbformat": 4,
 "nbformat_minor": 5
}
